{
 "cells": [
  {
   "cell_type": "markdown",
   "metadata": {},
   "source": [
    "# Project: Investigate a Dataset - [No-show appointments]\n",
    "\n",
    "## Table of Contents\n",
    "<ul>\n",
    "<li><a href=\"#intro\">Introduction</a></li>\n",
    "<li><a href=\"#wrangling\">Data Wrangling</a></li>\n",
    "<li><a href=\"#eda\">Exploratory Data Analysis</a></li>\n",
    "<li><a href=\"#conclusions\">Conclusions</a></li>\n",
    "</ul>"
   ]
  },
  {
   "cell_type": "markdown",
   "metadata": {},
   "source": [
    "<a id='intro'></a>\n",
    "## Introduction\n",
    "\n",
    "This project is among a group of projects required for graduation in Data Scientist Nandegree Program from Udacity, and I well go with a data set that contains Medical Appointment No Shows.\n",
    "I chose this project for its relevance to public health and patient preservation by trying to find out the factors affecting not being late for the clinic appointment\n",
    "\n",
    "\n",
    "### Project Overview \n",
    "\n",
    "> This dataset collects information from 100k medical appointments in Brazil and is focused on the question of whether or not patients show up for their appointment. A number of characteristics about the patient are included in each row. \\\n",
    "> I will analuzing the dataset to find what factors are important for us to know in order to predict if a patient will show up for their scheduled appointment.\n",
    "\n",
    "**Content:**\n",
    "\n",
    "> 110.527 medical appointments its 14 associated variables (characteristics).\n",
    ">The most important one if the patient show-up or no-show to the appointment. Variable names are self-explanatory, if you have >doubts, just let me know!\n",
    "> scholarship variable means this concept [here](https://en.wikipedia.org/wiki/Bolsa_Fam%C3%ADlia )\n",
    "\n",
    "**The Quetions i will be answer for analyse the data set**\n",
    "\n",
    ">**1.\tWhat is the proportion of appointment show-up versus no shows?** \\\n",
    ">**2.\tHow many patients for female and male?** \\\n",
    ">> a. how many patients for male and female of all dataset? \\\n",
    ">> b. how many patients for male and female show_up appointmint \\\n",
    ">> c. how many patients for male and female not show_up appointmint \\\n",
    "\n",
    ">**3.\tWhat is the distribution of the Age for the patient show-up and no-show the appointment?**\\\n",
    ">> a. distribution of age for all datasat \\\n",
    ">> b. distribution of age by show vs not-show appointment \\\n",
    ">> c. distribution of age group (kids(0:10)-teens(11:20)-youth(21:30)-adult(31:40)-old(41:60)-older(61:115)) \n",
    "\n",
    ">**4.\tWhat is distribution of day name of patient show-up and no-show the appointment, they are correlation with end week?**\\\n",
    ">**5.\tCompare between the patient who enrolled in Brazilian welfare program and show or didn’t show the appointment** \\\n",
    ">**6.\tHow many patients attended and did not attended the appointment by received SMS?** \\\n",
    "\n",
    "I will analyze data to find what factors are important to know in order to a patient will show up for their appointment or not.\n",
    "you can download the orignal dataset from [Kaggle](link)\n",
    "\n",
    "**Data Dictionary**\n",
    "\n",
    "The data is contained on 14 variable.\n",
    "Here is the explanation of each variable :\n",
    "\n",
    ">01 - PatientId ----> Identification of a patient \\\n",
    ">02 - AppointmentID ----> Identification of each appointment \\\n",
    ">03 - Gender ----> Male or Female \\\n",
    ">04 - AppointmentDay ----> The day of the actuall appointment, when they have to visit the doctor.\\\n",
    ">05 - ScheduledDay ----> >The day someone called or registered the appointment, this is before appointment of course.\\\n",
    ">06 - Age ----> How old is the patient.\\\n",
    ">07 - Neighbourhood ----> Where the appointment takes place.\\\n",
    ">08 - Scholarship ----> True of False . Observation, this is a broad topic, consider reading this [article](https://en.wikipedia.org/wiki/Bolsa_Fam%C3%ADlia) \\\n",
    ">09 - Hipertension ----> True or False. \\\n",
    ">10 - Diabetes ----> True or False. \\\n",
    ">11- Alcoholism ----> True or False. \\\n",
    ">12- Handcap ----> True or False. \\\n",
    ">13- SMS_received ----> 1 or more messages sent to the patient. \\\n",
    ">14- No-show ----> Yes for miss their scheduled appointments , No for  don't miss their scheduled appointments.\n"
   ]
  },
  {
   "cell_type": "markdown",
   "metadata": {},
   "source": [
    "<a id='wrangling'></a>\n",
    "## Data Wrangling\n",
    "\n",
    "> In this section I will load in the data, check for cleanliness, and then trim and clean the dataset for analysis.\n"
   ]
  },
  {
   "cell_type": "code",
   "execution_count": 21,
   "metadata": {},
   "outputs": [],
   "source": [
    "# Import necessary package\n",
    "import pandas as pd\n",
    "import matplotlib.pyplot as plt\n",
    "%matplotlib inline\n",
    "import numpy as np"
   ]
  },
  {
   "cell_type": "code",
   "execution_count": 22,
   "metadata": {},
   "outputs": [],
   "source": [
    "# Load your data and print out a few lines. Perform operations to inspect data\n",
    "df = pd.read_csv(\"noshowappointments-kagglev2-may-2016.csv\")"
   ]
  },
  {
   "cell_type": "code",
   "execution_count": 23,
   "metadata": {},
   "outputs": [
    {
     "name": "stdout",
     "output_type": "stream",
     "text": [
      "<class 'pandas.core.frame.DataFrame'>\n",
      "RangeIndex: 110527 entries, 0 to 110526\n",
      "Data columns (total 14 columns):\n",
      " #   Column          Non-Null Count   Dtype  \n",
      "---  ------          --------------   -----  \n",
      " 0   PatientId       110527 non-null  float64\n",
      " 1   AppointmentID   110527 non-null  int64  \n",
      " 2   Gender          110527 non-null  object \n",
      " 3   ScheduledDay    110527 non-null  object \n",
      " 4   AppointmentDay  110527 non-null  object \n",
      " 5   Age             110527 non-null  int64  \n",
      " 6   Neighbourhood   110527 non-null  object \n",
      " 7   Scholarship     110527 non-null  int64  \n",
      " 8   Hipertension    110527 non-null  int64  \n",
      " 9   Diabetes        110527 non-null  int64  \n",
      " 10  Alcoholism      110527 non-null  int64  \n",
      " 11  Handcap         110527 non-null  int64  \n",
      " 12  SMS_received    110527 non-null  int64  \n",
      " 13  No-show         110527 non-null  object \n",
      "dtypes: float64(1), int64(8), object(5)\n",
      "memory usage: 11.8+ MB\n"
     ]
    }
   ],
   "source": [
    "#Check dataset for:-\n",
    "#1- How many column --- 14\n",
    "#2- How many samples --- 110527\n",
    "#3- Whats is datatype in each column\n",
    "df.info()"
   ]
  },
  {
   "cell_type": "code",
   "execution_count": 24,
   "metadata": {},
   "outputs": [
    {
     "data": {
      "text/plain": [
       "False"
      ]
     },
     "execution_count": 24,
     "metadata": {},
     "output_type": "execute_result"
    }
   ],
   "source": [
    "# if thay any null value --- No\n",
    "df.isnull().sum().all()"
   ]
  },
  {
   "cell_type": "code",
   "execution_count": 25,
   "metadata": {},
   "outputs": [
    {
     "data": {
      "text/plain": [
       "0"
      ]
     },
     "execution_count": 25,
     "metadata": {},
     "output_type": "execute_result"
    }
   ],
   "source": [
    "# if thay any duplicated value --- No\n",
    "df.duplicated().sum()"
   ]
  },
  {
   "cell_type": "code",
   "execution_count": 26,
   "metadata": {},
   "outputs": [
    {
     "data": {
      "text/html": [
       "<div>\n",
       "<style scoped>\n",
       "    .dataframe tbody tr th:only-of-type {\n",
       "        vertical-align: middle;\n",
       "    }\n",
       "\n",
       "    .dataframe tbody tr th {\n",
       "        vertical-align: top;\n",
       "    }\n",
       "\n",
       "    .dataframe thead th {\n",
       "        text-align: right;\n",
       "    }\n",
       "</style>\n",
       "<table border=\"1\" class=\"dataframe\">\n",
       "  <thead>\n",
       "    <tr style=\"text-align: right;\">\n",
       "      <th></th>\n",
       "      <th>PatientId</th>\n",
       "      <th>AppointmentID</th>\n",
       "      <th>Gender</th>\n",
       "      <th>ScheduledDay</th>\n",
       "      <th>AppointmentDay</th>\n",
       "      <th>Age</th>\n",
       "      <th>Neighbourhood</th>\n",
       "      <th>Scholarship</th>\n",
       "      <th>Hipertension</th>\n",
       "      <th>Diabetes</th>\n",
       "      <th>Alcoholism</th>\n",
       "      <th>Handcap</th>\n",
       "      <th>SMS_received</th>\n",
       "      <th>No-show</th>\n",
       "    </tr>\n",
       "  </thead>\n",
       "  <tbody>\n",
       "    <tr>\n",
       "      <th>0</th>\n",
       "      <td>2.987250e+13</td>\n",
       "      <td>5642903</td>\n",
       "      <td>F</td>\n",
       "      <td>2016-04-29T18:38:08Z</td>\n",
       "      <td>2016-04-29T00:00:00Z</td>\n",
       "      <td>62</td>\n",
       "      <td>JARDIM DA PENHA</td>\n",
       "      <td>0</td>\n",
       "      <td>1</td>\n",
       "      <td>0</td>\n",
       "      <td>0</td>\n",
       "      <td>0</td>\n",
       "      <td>0</td>\n",
       "      <td>No</td>\n",
       "    </tr>\n",
       "    <tr>\n",
       "      <th>1</th>\n",
       "      <td>5.589978e+14</td>\n",
       "      <td>5642503</td>\n",
       "      <td>M</td>\n",
       "      <td>2016-04-29T16:08:27Z</td>\n",
       "      <td>2016-04-29T00:00:00Z</td>\n",
       "      <td>56</td>\n",
       "      <td>JARDIM DA PENHA</td>\n",
       "      <td>0</td>\n",
       "      <td>0</td>\n",
       "      <td>0</td>\n",
       "      <td>0</td>\n",
       "      <td>0</td>\n",
       "      <td>0</td>\n",
       "      <td>No</td>\n",
       "    </tr>\n",
       "    <tr>\n",
       "      <th>2</th>\n",
       "      <td>4.262962e+12</td>\n",
       "      <td>5642549</td>\n",
       "      <td>F</td>\n",
       "      <td>2016-04-29T16:19:04Z</td>\n",
       "      <td>2016-04-29T00:00:00Z</td>\n",
       "      <td>62</td>\n",
       "      <td>MATA DA PRAIA</td>\n",
       "      <td>0</td>\n",
       "      <td>0</td>\n",
       "      <td>0</td>\n",
       "      <td>0</td>\n",
       "      <td>0</td>\n",
       "      <td>0</td>\n",
       "      <td>No</td>\n",
       "    </tr>\n",
       "    <tr>\n",
       "      <th>3</th>\n",
       "      <td>8.679512e+11</td>\n",
       "      <td>5642828</td>\n",
       "      <td>F</td>\n",
       "      <td>2016-04-29T17:29:31Z</td>\n",
       "      <td>2016-04-29T00:00:00Z</td>\n",
       "      <td>8</td>\n",
       "      <td>PONTAL DE CAMBURI</td>\n",
       "      <td>0</td>\n",
       "      <td>0</td>\n",
       "      <td>0</td>\n",
       "      <td>0</td>\n",
       "      <td>0</td>\n",
       "      <td>0</td>\n",
       "      <td>No</td>\n",
       "    </tr>\n",
       "    <tr>\n",
       "      <th>4</th>\n",
       "      <td>8.841186e+12</td>\n",
       "      <td>5642494</td>\n",
       "      <td>F</td>\n",
       "      <td>2016-04-29T16:07:23Z</td>\n",
       "      <td>2016-04-29T00:00:00Z</td>\n",
       "      <td>56</td>\n",
       "      <td>JARDIM DA PENHA</td>\n",
       "      <td>0</td>\n",
       "      <td>1</td>\n",
       "      <td>1</td>\n",
       "      <td>0</td>\n",
       "      <td>0</td>\n",
       "      <td>0</td>\n",
       "      <td>No</td>\n",
       "    </tr>\n",
       "  </tbody>\n",
       "</table>\n",
       "</div>"
      ],
      "text/plain": [
       "      PatientId  AppointmentID Gender          ScheduledDay  \\\n",
       "0  2.987250e+13        5642903      F  2016-04-29T18:38:08Z   \n",
       "1  5.589978e+14        5642503      M  2016-04-29T16:08:27Z   \n",
       "2  4.262962e+12        5642549      F  2016-04-29T16:19:04Z   \n",
       "3  8.679512e+11        5642828      F  2016-04-29T17:29:31Z   \n",
       "4  8.841186e+12        5642494      F  2016-04-29T16:07:23Z   \n",
       "\n",
       "         AppointmentDay  Age      Neighbourhood  Scholarship  Hipertension  \\\n",
       "0  2016-04-29T00:00:00Z   62    JARDIM DA PENHA            0             1   \n",
       "1  2016-04-29T00:00:00Z   56    JARDIM DA PENHA            0             0   \n",
       "2  2016-04-29T00:00:00Z   62      MATA DA PRAIA            0             0   \n",
       "3  2016-04-29T00:00:00Z    8  PONTAL DE CAMBURI            0             0   \n",
       "4  2016-04-29T00:00:00Z   56    JARDIM DA PENHA            0             1   \n",
       "\n",
       "   Diabetes  Alcoholism  Handcap  SMS_received No-show  \n",
       "0         0           0        0             0      No  \n",
       "1         0           0        0             0      No  \n",
       "2         0           0        0             0      No  \n",
       "3         0           0        0             0      No  \n",
       "4         1           0        0             0      No  "
      ]
     },
     "execution_count": 26,
     "metadata": {},
     "output_type": "execute_result"
    }
   ],
   "source": [
    "# Show the first 5 Rows of dataset\n",
    "df.head()"
   ]
  },
  {
   "cell_type": "markdown",
   "metadata": {},
   "source": [
    "\n",
    "### Data Cleaning\n",
    "\n",
    ">#### Clean Process\n",
    ">1-\tCorrection spelling mistakes for some Columns and make them in lower case. \\\n",
    ">2-\tI have some column need to drop them (PatientId, AppointmentID, Neighbourhood ). \\\n",
    ">3- There is mines value in age columns. It doesn’t make sense. So I drop row. \\\n",
    ">4-\tIn No_show column, the ‘Yes’ and ‘No’ categorical object data has been replaced with integers (1, 0 ) for use in >statistical computations, and confert datatype from object to int. \\\n",
    ">5-\tConvert scheduled_day,appointment_day to datetime format. \\\n",
    ">6- Extract name of day of appointment day to new column(day_of_appoint). \\\n",
    ">7-\tMake mask to filter data to use in statistical computations and graph creation, filter based on a patient showed up >(show_appoint) and a patient don’t show up (noshow_appoint). \n",
    " "
   ]
  },
  {
   "cell_type": "code",
   "execution_count": 27,
   "metadata": {},
   "outputs": [],
   "source": [
    "#1- Correction spelling mistakes for some Columns and make them in lower case. \\\n",
    "#rename Columns\n",
    "df.rename(columns = {'ScheduledDay':'Scheduled_Day' , 'AppointmentDay':'Appointment_Day'},inplace = True)\n",
    "df.rename(columns=lambda col:col.strip().lower().replace(\" \",\"_\"),inplace = True)\n",
    "df.rename(columns=lambda col:col.replace(\"-\",\"_\"),inplace = True)"
   ]
  },
  {
   "cell_type": "code",
   "execution_count": 28,
   "metadata": {},
   "outputs": [
    {
     "data": {
      "text/plain": [
       "Index(['patientid', 'appointmentid', 'gender', 'scheduled_day',\n",
       "       'appointment_day', 'age', 'neighbourhood', 'scholarship',\n",
       "       'hipertension', 'diabetes', 'alcoholism', 'handcap', 'sms_received',\n",
       "       'no_show'],\n",
       "      dtype='object')"
      ]
     },
     "execution_count": 28,
     "metadata": {},
     "output_type": "execute_result"
    }
   ],
   "source": [
    "#check column name\n",
    "df.columns"
   ]
  },
  {
   "cell_type": "code",
   "execution_count": 29,
   "metadata": {},
   "outputs": [],
   "source": [
    "#2- I have some column need to drop them (PatientId, AppointmentID, Neighbourhood )\n",
    "columns_to_delete = ['patientid', 'appointmentid','neighbourhood']\n",
    "df.drop( columns = columns_to_delete , axis = 1 , inplace = True)"
   ]
  },
  {
   "cell_type": "code",
   "execution_count": 30,
   "metadata": {},
   "outputs": [
    {
     "data": {
      "text/html": [
       "<div>\n",
       "<style scoped>\n",
       "    .dataframe tbody tr th:only-of-type {\n",
       "        vertical-align: middle;\n",
       "    }\n",
       "\n",
       "    .dataframe tbody tr th {\n",
       "        vertical-align: top;\n",
       "    }\n",
       "\n",
       "    .dataframe thead th {\n",
       "        text-align: right;\n",
       "    }\n",
       "</style>\n",
       "<table border=\"1\" class=\"dataframe\">\n",
       "  <thead>\n",
       "    <tr style=\"text-align: right;\">\n",
       "      <th></th>\n",
       "      <th>age</th>\n",
       "      <th>scholarship</th>\n",
       "      <th>hipertension</th>\n",
       "      <th>diabetes</th>\n",
       "      <th>alcoholism</th>\n",
       "      <th>handcap</th>\n",
       "      <th>sms_received</th>\n",
       "    </tr>\n",
       "  </thead>\n",
       "  <tbody>\n",
       "    <tr>\n",
       "      <th>count</th>\n",
       "      <td>110527.000000</td>\n",
       "      <td>110527.000000</td>\n",
       "      <td>110527.000000</td>\n",
       "      <td>110527.000000</td>\n",
       "      <td>110527.000000</td>\n",
       "      <td>110527.000000</td>\n",
       "      <td>110527.000000</td>\n",
       "    </tr>\n",
       "    <tr>\n",
       "      <th>mean</th>\n",
       "      <td>37.088874</td>\n",
       "      <td>0.098266</td>\n",
       "      <td>0.197246</td>\n",
       "      <td>0.071865</td>\n",
       "      <td>0.030400</td>\n",
       "      <td>0.022248</td>\n",
       "      <td>0.321026</td>\n",
       "    </tr>\n",
       "    <tr>\n",
       "      <th>std</th>\n",
       "      <td>23.110205</td>\n",
       "      <td>0.297675</td>\n",
       "      <td>0.397921</td>\n",
       "      <td>0.258265</td>\n",
       "      <td>0.171686</td>\n",
       "      <td>0.161543</td>\n",
       "      <td>0.466873</td>\n",
       "    </tr>\n",
       "    <tr>\n",
       "      <th>min</th>\n",
       "      <td>-1.000000</td>\n",
       "      <td>0.000000</td>\n",
       "      <td>0.000000</td>\n",
       "      <td>0.000000</td>\n",
       "      <td>0.000000</td>\n",
       "      <td>0.000000</td>\n",
       "      <td>0.000000</td>\n",
       "    </tr>\n",
       "    <tr>\n",
       "      <th>25%</th>\n",
       "      <td>18.000000</td>\n",
       "      <td>0.000000</td>\n",
       "      <td>0.000000</td>\n",
       "      <td>0.000000</td>\n",
       "      <td>0.000000</td>\n",
       "      <td>0.000000</td>\n",
       "      <td>0.000000</td>\n",
       "    </tr>\n",
       "    <tr>\n",
       "      <th>50%</th>\n",
       "      <td>37.000000</td>\n",
       "      <td>0.000000</td>\n",
       "      <td>0.000000</td>\n",
       "      <td>0.000000</td>\n",
       "      <td>0.000000</td>\n",
       "      <td>0.000000</td>\n",
       "      <td>0.000000</td>\n",
       "    </tr>\n",
       "    <tr>\n",
       "      <th>75%</th>\n",
       "      <td>55.000000</td>\n",
       "      <td>0.000000</td>\n",
       "      <td>0.000000</td>\n",
       "      <td>0.000000</td>\n",
       "      <td>0.000000</td>\n",
       "      <td>0.000000</td>\n",
       "      <td>1.000000</td>\n",
       "    </tr>\n",
       "    <tr>\n",
       "      <th>max</th>\n",
       "      <td>115.000000</td>\n",
       "      <td>1.000000</td>\n",
       "      <td>1.000000</td>\n",
       "      <td>1.000000</td>\n",
       "      <td>1.000000</td>\n",
       "      <td>4.000000</td>\n",
       "      <td>1.000000</td>\n",
       "    </tr>\n",
       "  </tbody>\n",
       "</table>\n",
       "</div>"
      ],
      "text/plain": [
       "                 age    scholarship   hipertension       diabetes  \\\n",
       "count  110527.000000  110527.000000  110527.000000  110527.000000   \n",
       "mean       37.088874       0.098266       0.197246       0.071865   \n",
       "std        23.110205       0.297675       0.397921       0.258265   \n",
       "min        -1.000000       0.000000       0.000000       0.000000   \n",
       "25%        18.000000       0.000000       0.000000       0.000000   \n",
       "50%        37.000000       0.000000       0.000000       0.000000   \n",
       "75%        55.000000       0.000000       0.000000       0.000000   \n",
       "max       115.000000       1.000000       1.000000       1.000000   \n",
       "\n",
       "          alcoholism        handcap   sms_received  \n",
       "count  110527.000000  110527.000000  110527.000000  \n",
       "mean        0.030400       0.022248       0.321026  \n",
       "std         0.171686       0.161543       0.466873  \n",
       "min         0.000000       0.000000       0.000000  \n",
       "25%         0.000000       0.000000       0.000000  \n",
       "50%         0.000000       0.000000       0.000000  \n",
       "75%         0.000000       0.000000       1.000000  \n",
       "max         1.000000       4.000000       1.000000  "
      ]
     },
     "execution_count": 30,
     "metadata": {},
     "output_type": "execute_result"
    }
   ],
   "source": [
    "df.describe()"
   ]
  },
  {
   "cell_type": "markdown",
   "metadata": {},
   "source": [
    "**It is noted that there is a negative age, which is illogical, and with reference to the existing discussions about the data, the response of the data generator was that it expresses the palm in the prenatal stage.** \n",
    "\n",
    "**but it is also illogical for two reasons.** \n",
    "\n",
    ">The first:- that it is logical that the reservation be in the name of the pregnant mother and not in the name of the unborn child. \\\n",
    "\n",
    ">The second:- because the number of this category is only one, which is also illogical that there is only one pregnant woman in all these patients. \n",
    "\n",
    "**so I chose to ignore this record and drop it.**"
   ]
  },
  {
   "cell_type": "code",
   "execution_count": 31,
   "metadata": {},
   "outputs": [
    {
     "data": {
      "text/html": [
       "<div>\n",
       "<style scoped>\n",
       "    .dataframe tbody tr th:only-of-type {\n",
       "        vertical-align: middle;\n",
       "    }\n",
       "\n",
       "    .dataframe tbody tr th {\n",
       "        vertical-align: top;\n",
       "    }\n",
       "\n",
       "    .dataframe thead th {\n",
       "        text-align: right;\n",
       "    }\n",
       "</style>\n",
       "<table border=\"1\" class=\"dataframe\">\n",
       "  <thead>\n",
       "    <tr style=\"text-align: right;\">\n",
       "      <th></th>\n",
       "      <th>gender</th>\n",
       "      <th>scheduled_day</th>\n",
       "      <th>appointment_day</th>\n",
       "      <th>age</th>\n",
       "      <th>scholarship</th>\n",
       "      <th>hipertension</th>\n",
       "      <th>diabetes</th>\n",
       "      <th>alcoholism</th>\n",
       "      <th>handcap</th>\n",
       "      <th>sms_received</th>\n",
       "      <th>no_show</th>\n",
       "    </tr>\n",
       "  </thead>\n",
       "  <tbody>\n",
       "    <tr>\n",
       "      <th>99832</th>\n",
       "      <td>F</td>\n",
       "      <td>2016-06-06T08:58:13Z</td>\n",
       "      <td>2016-06-06T00:00:00Z</td>\n",
       "      <td>-1</td>\n",
       "      <td>0</td>\n",
       "      <td>0</td>\n",
       "      <td>0</td>\n",
       "      <td>0</td>\n",
       "      <td>0</td>\n",
       "      <td>0</td>\n",
       "      <td>No</td>\n",
       "    </tr>\n",
       "  </tbody>\n",
       "</table>\n",
       "</div>"
      ],
      "text/plain": [
       "      gender         scheduled_day       appointment_day  age  scholarship  \\\n",
       "99832      F  2016-06-06T08:58:13Z  2016-06-06T00:00:00Z   -1            0   \n",
       "\n",
       "       hipertension  diabetes  alcoholism  handcap  sms_received no_show  \n",
       "99832             0         0           0        0             0      No  "
      ]
     },
     "execution_count": 31,
     "metadata": {},
     "output_type": "execute_result"
    }
   ],
   "source": [
    "#3- There is mines value in age columns. It doesn’t make sense. So I drop row. \\\n",
    "df[df['age'] < 0]"
   ]
  },
  {
   "cell_type": "code",
   "execution_count": 32,
   "metadata": {},
   "outputs": [],
   "source": [
    "# deop mines value record in age column\n",
    "df.drop(df[df['age']== -1].index , inplace = True )"
   ]
  },
  {
   "cell_type": "code",
   "execution_count": 33,
   "metadata": {},
   "outputs": [],
   "source": [
    "#4- In No_show column, the ‘Yes’ and ‘No’ categorical object data has been replaced with integers (1, 0 )\n",
    "# for use in statistical computations, and confert datatype from object to int.\n",
    "df.no_show.replace('Yes','1',inplace = True)\n",
    "df.no_show.replace('No','0',inplace = True)"
   ]
  },
  {
   "cell_type": "code",
   "execution_count": 34,
   "metadata": {},
   "outputs": [
    {
     "name": "stdout",
     "output_type": "stream",
     "text": [
      "<class 'pandas.core.frame.DataFrame'>\n",
      "Int64Index: 110526 entries, 0 to 110526\n",
      "Data columns (total 11 columns):\n",
      " #   Column           Non-Null Count   Dtype \n",
      "---  ------           --------------   ----- \n",
      " 0   gender           110526 non-null  object\n",
      " 1   scheduled_day    110526 non-null  object\n",
      " 2   appointment_day  110526 non-null  object\n",
      " 3   age              110526 non-null  int64 \n",
      " 4   scholarship      110526 non-null  int64 \n",
      " 5   hipertension     110526 non-null  int64 \n",
      " 6   diabetes         110526 non-null  int64 \n",
      " 7   alcoholism       110526 non-null  int64 \n",
      " 8   handcap          110526 non-null  int64 \n",
      " 9   sms_received     110526 non-null  int64 \n",
      " 10  no_show          110526 non-null  int64 \n",
      "dtypes: int64(8), object(3)\n",
      "memory usage: 10.1+ MB\n"
     ]
    }
   ],
   "source": [
    "df.no_show = df.no_show.astype(str).astype('int64')\n",
    "df.info()"
   ]
  },
  {
   "cell_type": "code",
   "execution_count": 35,
   "metadata": {},
   "outputs": [
    {
     "name": "stdout",
     "output_type": "stream",
     "text": [
      "<class 'pandas.core.frame.DataFrame'>\n",
      "Int64Index: 110526 entries, 0 to 110526\n",
      "Data columns (total 11 columns):\n",
      " #   Column           Non-Null Count   Dtype              \n",
      "---  ------           --------------   -----              \n",
      " 0   gender           110526 non-null  object             \n",
      " 1   scheduled_day    110526 non-null  datetime64[ns, UTC]\n",
      " 2   appointment_day  110526 non-null  datetime64[ns, UTC]\n",
      " 3   age              110526 non-null  int64              \n",
      " 4   scholarship      110526 non-null  int64              \n",
      " 5   hipertension     110526 non-null  int64              \n",
      " 6   diabetes         110526 non-null  int64              \n",
      " 7   alcoholism       110526 non-null  int64              \n",
      " 8   handcap          110526 non-null  int64              \n",
      " 9   sms_received     110526 non-null  int64              \n",
      " 10  no_show          110526 non-null  int64              \n",
      "dtypes: datetime64[ns, UTC](2), int64(8), object(1)\n",
      "memory usage: 10.1+ MB\n"
     ]
    }
   ],
   "source": [
    "# 5- convert scheduled_day,appointment_day to datetime format.\n",
    "df['scheduled_day'] = pd.to_datetime(df['scheduled_day'])\n",
    "df['appointment_day'] = pd.to_datetime(df['appointment_day'])\n",
    "df.info()"
   ]
  },
  {
   "cell_type": "code",
   "execution_count": 36,
   "metadata": {},
   "outputs": [
    {
     "data": {
      "text/html": [
       "<div>\n",
       "<style scoped>\n",
       "    .dataframe tbody tr th:only-of-type {\n",
       "        vertical-align: middle;\n",
       "    }\n",
       "\n",
       "    .dataframe tbody tr th {\n",
       "        vertical-align: top;\n",
       "    }\n",
       "\n",
       "    .dataframe thead th {\n",
       "        text-align: right;\n",
       "    }\n",
       "</style>\n",
       "<table border=\"1\" class=\"dataframe\">\n",
       "  <thead>\n",
       "    <tr style=\"text-align: right;\">\n",
       "      <th></th>\n",
       "      <th>gender</th>\n",
       "      <th>scheduled_day</th>\n",
       "      <th>appointment_day</th>\n",
       "      <th>age</th>\n",
       "      <th>scholarship</th>\n",
       "      <th>hipertension</th>\n",
       "      <th>diabetes</th>\n",
       "      <th>alcoholism</th>\n",
       "      <th>handcap</th>\n",
       "      <th>sms_received</th>\n",
       "      <th>no_show</th>\n",
       "      <th>day_of_appoint</th>\n",
       "    </tr>\n",
       "  </thead>\n",
       "  <tbody>\n",
       "    <tr>\n",
       "      <th>0</th>\n",
       "      <td>F</td>\n",
       "      <td>2016-04-29 18:38:08+00:00</td>\n",
       "      <td>2016-04-29 00:00:00+00:00</td>\n",
       "      <td>62</td>\n",
       "      <td>0</td>\n",
       "      <td>1</td>\n",
       "      <td>0</td>\n",
       "      <td>0</td>\n",
       "      <td>0</td>\n",
       "      <td>0</td>\n",
       "      <td>0</td>\n",
       "      <td>Friday</td>\n",
       "    </tr>\n",
       "    <tr>\n",
       "      <th>1</th>\n",
       "      <td>M</td>\n",
       "      <td>2016-04-29 16:08:27+00:00</td>\n",
       "      <td>2016-04-29 00:00:00+00:00</td>\n",
       "      <td>56</td>\n",
       "      <td>0</td>\n",
       "      <td>0</td>\n",
       "      <td>0</td>\n",
       "      <td>0</td>\n",
       "      <td>0</td>\n",
       "      <td>0</td>\n",
       "      <td>0</td>\n",
       "      <td>Friday</td>\n",
       "    </tr>\n",
       "    <tr>\n",
       "      <th>2</th>\n",
       "      <td>F</td>\n",
       "      <td>2016-04-29 16:19:04+00:00</td>\n",
       "      <td>2016-04-29 00:00:00+00:00</td>\n",
       "      <td>62</td>\n",
       "      <td>0</td>\n",
       "      <td>0</td>\n",
       "      <td>0</td>\n",
       "      <td>0</td>\n",
       "      <td>0</td>\n",
       "      <td>0</td>\n",
       "      <td>0</td>\n",
       "      <td>Friday</td>\n",
       "    </tr>\n",
       "  </tbody>\n",
       "</table>\n",
       "</div>"
      ],
      "text/plain": [
       "  gender             scheduled_day           appointment_day  age  \\\n",
       "0      F 2016-04-29 18:38:08+00:00 2016-04-29 00:00:00+00:00   62   \n",
       "1      M 2016-04-29 16:08:27+00:00 2016-04-29 00:00:00+00:00   56   \n",
       "2      F 2016-04-29 16:19:04+00:00 2016-04-29 00:00:00+00:00   62   \n",
       "\n",
       "   scholarship  hipertension  diabetes  alcoholism  handcap  sms_received  \\\n",
       "0            0             1         0           0        0             0   \n",
       "1            0             0         0           0        0             0   \n",
       "2            0             0         0           0        0             0   \n",
       "\n",
       "   no_show day_of_appoint  \n",
       "0        0         Friday  \n",
       "1        0         Friday  \n",
       "2        0         Friday  "
      ]
     },
     "execution_count": 36,
     "metadata": {},
     "output_type": "execute_result"
    }
   ],
   "source": [
    "# 6- Extract name of day of appointment day to new column(day_of_appoint).\n",
    "df['day_of_appoint'] = df['appointment_day'].dt.day_name()\n",
    "df.head(3)"
   ]
  },
  {
   "cell_type": "code",
   "execution_count": 37,
   "metadata": {},
   "outputs": [],
   "source": [
    "df.to_csv('no_show_appointment_clean.csv',index = False)"
   ]
  },
  {
   "cell_type": "markdown",
   "metadata": {},
   "source": [
    "<a id='eda'></a>\n",
    "## Exploratory Data Analysis\n",
    "### Research Question 1:-\n",
    "#### (What is the proportion of appointment show-up versus no shows?)"
   ]
  },
  {
   "cell_type": "code",
   "execution_count": 38,
   "metadata": {},
   "outputs": [],
   "source": [
    "df = pd.read_csv('no_show_appointment_clean.csv')"
   ]
  },
  {
   "cell_type": "code",
   "execution_count": 39,
   "metadata": {},
   "outputs": [],
   "source": [
    "# 7- Make mask to filter data based on a patient showed up (go_appoint) and a patient don’t show up (miss_appoint).\n",
    "miss_appoint = df.no_show == 1\n",
    "go_appoint = df.no_show == 0"
   ]
  },
  {
   "cell_type": "code",
   "execution_count": 40,
   "metadata": {},
   "outputs": [
    {
     "data": {
      "image/png": "[encoded data removed]",
      "text/plain": [
       "<Figure size 1080x1080 with 9 Axes>"
      ]
     },
     "metadata": {
      "needs_background": "light"
     },
     "output_type": "display_data"
    }
   ],
   "source": [
    "df.hist(figsize = (15,15));"
   ]
  },
  {
   "cell_type": "markdown",
   "metadata": {},
   "source": [
    "Note that:- \\\n",
    "     1- Most Pepole not have (scholarship, hipertension, diabetes, alcoholism & handcap) \\\n",
    "     2- Skweed right in age column"
   ]
  },
  {
   "cell_type": "code",
   "execution_count": 41,
   "metadata": {},
   "outputs": [
    {
     "name": "stdout",
     "output_type": "stream",
     "text": [
      "The proportion of patients show-up appointment is about 80 %, and no show appointment is about 20 %\n",
      "Total attended appointments more greater than the number that patients did not show-up\n"
     ]
    }
   ],
   "source": [
    "df1 = df['no_show'].value_counts() *100 / df['no_show'].count()\n",
    "print('The proportion of patients show-up appointment is about {} %, and no show appointment is about {} %'.format(round(df1[0]),round(df1[1])))\n",
    "print('Total attended appointments more greater than the number that patients did not show-up')"
   ]
  },
  {
   "cell_type": "code",
   "execution_count": 42,
   "metadata": {},
   "outputs": [
    {
     "data": {
      "image/png": "[encoded data removed]",
      "text/plain": [
       "<Figure size 576x432 with 1 Axes>"
      ]
     },
     "metadata": {},
     "output_type": "display_data"
    }
   ],
   "source": [
    "plt.subplots(figsize = (8,6))\n",
    "my_labels = ['Go Appointment','Miss Appointment']\n",
    "df1.plot.pie(labels=my_labels,autopct='%.2f%%')\n",
    "#plt.bar(df1.index, df1)\n",
    "plt.title('The precentge for no show appointments\\n')\n",
    "plt.legend()\n",
    "plt.show();"
   ]
  },
  {
   "cell_type": "markdown",
   "metadata": {},
   "source": [
    "about 20% miss there scheduled appointments"
   ]
  },
  {
   "cell_type": "markdown",
   "metadata": {},
   "source": [
    "### Research Question 2:-\n",
    "### (How many patients for male and female?)"
   ]
  },
  {
   "cell_type": "code",
   "execution_count": 43,
   "metadata": {},
   "outputs": [
    {
     "name": "stdout",
     "output_type": "stream",
     "text": [
      "number of men is 38687 , and the number of women is 71839\n",
      "number precent of men is 35.00% , and the number precent of women is 65.00%\n"
     ]
    },
    {
     "data": {
      "image/png": "[encoded data removed]",
      "text/plain": [
       "<Figure size 432x288 with 1 Axes>"
      ]
     },
     "metadata": {
      "needs_background": "light"
     },
     "output_type": "display_data"
    }
   ],
   "source": [
    "#a. how many patients for male and female of all dataset\n",
    "gender_count = df['gender'].value_counts() \n",
    "total_count = df['gender'].count()\n",
    "x = gender_count.M *100 /total_count\n",
    "y = gender_count.F *100 / total_count\n",
    "print('number of men is {} , and the number of women is {}'.format(gender_count.M,gender_count.F))\n",
    "print('number precent of men is {:.2f}% , and the number precent of women is {:.2f}%'.format( x , y ))\n",
    "gender_count.plot(kind = 'bar')\n",
    "plt.title('The Number of patients for male and female of all dataset')\n",
    "plt.xticks([0,1],['Female','Male'],rotation = 90 , horizontalalignment=\"center\")\n",
    "plt.xlabel(' Gender ')\n",
    "plt.ylabel('Number');"
   ]
  },
  {
   "cell_type": "code",
   "execution_count": 44,
   "metadata": {},
   "outputs": [
    {
     "name": "stdout",
     "output_type": "stream",
     "text": [
      "number of men with go appointment is 30962 , and the number of women with go appointment is 57245\n",
      "number precent of men is 35.10% , and the number precent of women is 64.90%\n"
     ]
    },
    {
     "data": {
      "image/png": "[encoded data removed]",
      "text/plain": [
       "<Figure size 432x288 with 1 Axes>"
      ]
     },
     "metadata": {
      "needs_background": "light"
     },
     "output_type": "display_data"
    }
   ],
   "source": [
    "#b. how many patients for male and female show_up appointmint\n",
    "gender_show_count = df[go_appoint].gender.value_counts() \n",
    "total_show_count = df[go_appoint].gender.count()\n",
    "m = gender_show_count.M *100 /total_show_count\n",
    "n = gender_show_count.F *100 / total_show_count\n",
    "print('number of men with go appointment is {} , and the number of women with go appointment is {}'.format(gender_show_count.M,gender_show_count.F))\n",
    "print('number precent of men is {:.2f}% , and the number precent of women is {:.2f}%'.format( m , n ))\n",
    "gender_count.plot(kind = 'bar')\n",
    "plt.title('The Number of patients for male and female of show_up appointmint')\n",
    "plt.xticks([0,1],['Female','Male'],rotation = 90 , horizontalalignment=\"center\")\n",
    "plt.xlabel(' Gender ')\n",
    "plt.ylabel('Number');"
   ]
  },
  {
   "cell_type": "code",
   "execution_count": 45,
   "metadata": {},
   "outputs": [
    {
     "name": "stdout",
     "output_type": "stream",
     "text": [
      "number of men with go appointment is 7725 , and the number of women with go appointment is 14594\n",
      "number precent of men is 35.00% , and the number precent of women is 65.00%\n"
     ]
    },
    {
     "data": {
      "image/png": "[encoded data removed]",
      "text/plain": [
       "<Figure size 432x288 with 1 Axes>"
      ]
     },
     "metadata": {
      "needs_background": "light"
     },
     "output_type": "display_data"
    }
   ],
   "source": [
    "#c. how many patients for male and female not show_up appointmint\n",
    "gender_not_show_count = df[miss_appoint].gender.value_counts() \n",
    "total_not_show_count = df[miss_appoint].gender.count()\n",
    "p = round(gender_not_show_count.M *100 /total_not_show_count)\n",
    "q = round(gender_not_show_count.F *100 / total_not_show_count)\n",
    "print('number of men with go appointment is {} , and the number of women with go appointment is {}'.format(gender_not_show_count.M,gender_not_show_count.F))\n",
    "print('number precent of men is {:.2f}% , and the number precent of women is {:.2f}%'.format( p , q ))\n",
    "gender_count.plot(kind = 'bar')\n",
    "plt.xticks([0,1],['Female','Male'],rotation = 90 , horizontalalignment=\"center\")\n",
    "plt.title('Number of patients by gender (male/female) not show_up appointmint')\n",
    "plt.xlabel(' Gender ')\n",
    "plt.ylabel('Total Number');"
   ]
  },
  {
   "cell_type": "markdown",
   "metadata": {},
   "source": [
    "From the gender graph **(all,show,not_show)**, it can be seen that number of male patients **(35%)** and number of female patients **(65%)**.\n",
    "\n",
    "**We can say that:-**\n",
    ">1- the number of females are greater than of males patients by 1.85 Time. \\\n",
    ">2- also woman takes way more care of they health in comparison to man"
   ]
  },
  {
   "cell_type": "markdown",
   "metadata": {},
   "source": [
    "## Research Question 3:- \n",
    "### (What is the distribution of the Age for the patient show-up and no-show the appointment?)"
   ]
  },
  {
   "cell_type": "code",
   "execution_count": 46,
   "metadata": {},
   "outputs": [
    {
     "data": {
      "image/png": "[encoded data removed]",
      "text/plain": [
       "<Figure size 432x288 with 1 Axes>"
      ]
     },
     "metadata": {
      "needs_background": "light"
     },
     "output_type": "display_data"
    }
   ],
   "source": [
    "#a-\tdistribution of age for all datasat\n",
    "df.age.hist()\n",
    "plt.title('Age distribution')\n",
    "plt.xlabel(' Age ')\n",
    "plt.ylabel('Total Number');"
   ]
  },
  {
   "cell_type": "code",
   "execution_count": 47,
   "metadata": {},
   "outputs": [
    {
     "data": {
      "text/plain": [
       "37.089218826339504"
      ]
     },
     "execution_count": 47,
     "metadata": {},
     "output_type": "execute_result"
    }
   ],
   "source": [
    "#Average of pepole age\n",
    "df.age.mean()"
   ]
  },
  {
   "cell_type": "code",
   "execution_count": 48,
   "metadata": {},
   "outputs": [
    {
     "data": {
      "text/plain": [
       "0"
      ]
     },
     "execution_count": 48,
     "metadata": {},
     "output_type": "execute_result"
    }
   ],
   "source": [
    "#Mode of pepole age\n",
    "df.age.mode()[0]"
   ]
  },
  {
   "cell_type": "code",
   "execution_count": 49,
   "metadata": {},
   "outputs": [
    {
     "data": {
      "text/plain": [
       "37.0"
      ]
     },
     "execution_count": 49,
     "metadata": {},
     "output_type": "execute_result"
    }
   ],
   "source": [
    "#Median of pepole age\n",
    "df.age.median()"
   ]
  },
  {
   "cell_type": "code",
   "execution_count": 50,
   "metadata": {},
   "outputs": [
    {
     "data": {
      "image/png": "[encoded data removed]",
      "text/plain": [
       "<Figure size 432x288 with 1 Axes>"
      ]
     },
     "metadata": {
      "needs_background": "light"
     },
     "output_type": "display_data"
    }
   ],
   "source": [
    "df.age.plot(kind='box');"
   ]
  },
  {
   "cell_type": "code",
   "execution_count": 51,
   "metadata": {
    "scrolled": true
   },
   "outputs": [
    {
     "data": {
      "image/png": "[encoded data removed]",
      "text/plain": [
       "<Figure size 432x288 with 1 Axes>"
      ]
     },
     "metadata": {
      "needs_background": "light"
     },
     "output_type": "display_data"
    }
   ],
   "source": [
    "# b. Distribution of Age by show vs not-show\n",
    "df.age[miss_appoint].hist(alpha=0.5 , bins = 20 , label='Miss Appointment', color = 'red' )\n",
    "df.age[go_appoint].hist(alpha=0.5 , bins = 20 ,label='Go Appointment' , color = 'green')\n",
    "plt.title('Age distribution (Go Appointment Vs Miss Appointment)\\n')\n",
    "plt.xlabel(' Age ')\n",
    "plt.ylabel('Total Number');\n",
    "plt.legend();"
   ]
  },
  {
   "cell_type": "markdown",
   "metadata": {},
   "source": [
    "So, based on this plot, it does look like the really young children have a higher attend appointments then the Age from (45–65).\n",
    "the Age form (23 to 40) and (0–5) have a higher number didn’t attend appointments.\n"
   ]
  },
  {
   "cell_type": "code",
   "execution_count": 52,
   "metadata": {},
   "outputs": [
    {
     "data": {
      "text/plain": [
       "37.790504154999034"
      ]
     },
     "execution_count": 52,
     "metadata": {},
     "output_type": "execute_result"
    }
   ],
   "source": [
    "#Average of pepole age go appointment\n",
    "df.age[go_appoint].mean()"
   ]
  },
  {
   "cell_type": "code",
   "execution_count": 53,
   "metadata": {},
   "outputs": [
    {
     "data": {
      "text/plain": [
       "0"
      ]
     },
     "execution_count": 53,
     "metadata": {},
     "output_type": "execute_result"
    }
   ],
   "source": [
    "#Mode of pepole age go appointment\n",
    "df.age[go_appoint].mode()[0]"
   ]
  },
  {
   "cell_type": "code",
   "execution_count": 54,
   "metadata": {},
   "outputs": [
    {
     "data": {
      "text/plain": [
       "38.0"
      ]
     },
     "execution_count": 54,
     "metadata": {},
     "output_type": "execute_result"
    }
   ],
   "source": [
    "#Median of pepole age go appointment\n",
    "df.age[go_appoint].median()"
   ]
  },
  {
   "cell_type": "code",
   "execution_count": 55,
   "metadata": {},
   "outputs": [
    {
     "data": {
      "image/png": "[encoded data removed]",
      "text/plain": [
       "<Figure size 432x288 with 1 Axes>"
      ]
     },
     "metadata": {
      "needs_background": "light"
     },
     "output_type": "display_data"
    }
   ],
   "source": [
    "df.age[go_appoint].plot(kind='box');"
   ]
  },
  {
   "cell_type": "code",
   "execution_count": 56,
   "metadata": {},
   "outputs": [
    {
     "data": {
      "text/plain": [
       "34.31766656212196"
      ]
     },
     "execution_count": 56,
     "metadata": {},
     "output_type": "execute_result"
    }
   ],
   "source": [
    "#Average of pepole age miss appointment\n",
    "df.age[miss_appoint].mean()"
   ]
  },
  {
   "cell_type": "code",
   "execution_count": 57,
   "metadata": {},
   "outputs": [
    {
     "data": {
      "text/plain": [
       "0"
      ]
     },
     "execution_count": 57,
     "metadata": {},
     "output_type": "execute_result"
    }
   ],
   "source": [
    "#Mode of pepole age miss appointment\n",
    "df.age[miss_appoint].mode()[0]"
   ]
  },
  {
   "cell_type": "code",
   "execution_count": 58,
   "metadata": {},
   "outputs": [
    {
     "data": {
      "text/plain": [
       "33.0"
      ]
     },
     "execution_count": 58,
     "metadata": {},
     "output_type": "execute_result"
    }
   ],
   "source": [
    "#Mdian of pepole age miss appointment\n",
    "df.age[miss_appoint].median()"
   ]
  },
  {
   "cell_type": "code",
   "execution_count": 59,
   "metadata": {},
   "outputs": [
    {
     "data": {
      "image/png": "[encoded data removed]",
      "text/plain": [
       "<Figure size 432x288 with 1 Axes>"
      ]
     },
     "metadata": {
      "needs_background": "light"
     },
     "output_type": "display_data"
    }
   ],
   "source": [
    "df.age[miss_appoint].plot(kind='box');"
   ]
  },
  {
   "cell_type": "markdown",
   "metadata": {},
   "source": [
    "Note that the age distrpution have +ve sekwed and mode is 0 "
   ]
  },
  {
   "cell_type": "markdown",
   "metadata": {},
   "source": [
    "Add column (age_group) to group age as:- \\\n",
    "kids(0:10)-teens(11:20)-youth(21:30)-adult(31:40)-old(41:60)-older(61:115)\n"
   ]
  },
  {
   "cell_type": "code",
   "execution_count": 60,
   "metadata": {},
   "outputs": [],
   "source": [
    "#c. distribution of age group (kids(0:10)-teens(11:20)-youth(21:30)-adult(31:40)-old(41:60)-older(61:115)) \n",
    "bin_ed=[ 0 , 10 , 20 , 30 , 40 , 60 , 115]\n",
    "bin_name = ['kids', 'teens', 'youth', 'adult','old','older']\n",
    "df['age_group'] = pd.cut(df['age'], bin_ed, labels=bin_name)"
   ]
  },
  {
   "cell_type": "code",
   "execution_count": 61,
   "metadata": {},
   "outputs": [
    {
     "data": {
      "text/html": [
       "<div>\n",
       "<style scoped>\n",
       "    .dataframe tbody tr th:only-of-type {\n",
       "        vertical-align: middle;\n",
       "    }\n",
       "\n",
       "    .dataframe tbody tr th {\n",
       "        vertical-align: top;\n",
       "    }\n",
       "\n",
       "    .dataframe thead th {\n",
       "        text-align: right;\n",
       "    }\n",
       "</style>\n",
       "<table border=\"1\" class=\"dataframe\">\n",
       "  <thead>\n",
       "    <tr style=\"text-align: right;\">\n",
       "      <th></th>\n",
       "      <th>gender</th>\n",
       "      <th>scheduled_day</th>\n",
       "      <th>appointment_day</th>\n",
       "      <th>age</th>\n",
       "      <th>scholarship</th>\n",
       "      <th>hipertension</th>\n",
       "      <th>diabetes</th>\n",
       "      <th>alcoholism</th>\n",
       "      <th>handcap</th>\n",
       "      <th>sms_received</th>\n",
       "      <th>no_show</th>\n",
       "      <th>day_of_appoint</th>\n",
       "      <th>age_group</th>\n",
       "    </tr>\n",
       "  </thead>\n",
       "  <tbody>\n",
       "    <tr>\n",
       "      <th>0</th>\n",
       "      <td>F</td>\n",
       "      <td>2016-04-29 18:38:08+00:00</td>\n",
       "      <td>2016-04-29 00:00:00+00:00</td>\n",
       "      <td>62</td>\n",
       "      <td>0</td>\n",
       "      <td>1</td>\n",
       "      <td>0</td>\n",
       "      <td>0</td>\n",
       "      <td>0</td>\n",
       "      <td>0</td>\n",
       "      <td>0</td>\n",
       "      <td>Friday</td>\n",
       "      <td>older</td>\n",
       "    </tr>\n",
       "    <tr>\n",
       "      <th>1</th>\n",
       "      <td>M</td>\n",
       "      <td>2016-04-29 16:08:27+00:00</td>\n",
       "      <td>2016-04-29 00:00:00+00:00</td>\n",
       "      <td>56</td>\n",
       "      <td>0</td>\n",
       "      <td>0</td>\n",
       "      <td>0</td>\n",
       "      <td>0</td>\n",
       "      <td>0</td>\n",
       "      <td>0</td>\n",
       "      <td>0</td>\n",
       "      <td>Friday</td>\n",
       "      <td>old</td>\n",
       "    </tr>\n",
       "    <tr>\n",
       "      <th>2</th>\n",
       "      <td>F</td>\n",
       "      <td>2016-04-29 16:19:04+00:00</td>\n",
       "      <td>2016-04-29 00:00:00+00:00</td>\n",
       "      <td>62</td>\n",
       "      <td>0</td>\n",
       "      <td>0</td>\n",
       "      <td>0</td>\n",
       "      <td>0</td>\n",
       "      <td>0</td>\n",
       "      <td>0</td>\n",
       "      <td>0</td>\n",
       "      <td>Friday</td>\n",
       "      <td>older</td>\n",
       "    </tr>\n",
       "    <tr>\n",
       "      <th>3</th>\n",
       "      <td>F</td>\n",
       "      <td>2016-04-29 17:29:31+00:00</td>\n",
       "      <td>2016-04-29 00:00:00+00:00</td>\n",
       "      <td>8</td>\n",
       "      <td>0</td>\n",
       "      <td>0</td>\n",
       "      <td>0</td>\n",
       "      <td>0</td>\n",
       "      <td>0</td>\n",
       "      <td>0</td>\n",
       "      <td>0</td>\n",
       "      <td>Friday</td>\n",
       "      <td>kids</td>\n",
       "    </tr>\n",
       "    <tr>\n",
       "      <th>4</th>\n",
       "      <td>F</td>\n",
       "      <td>2016-04-29 16:07:23+00:00</td>\n",
       "      <td>2016-04-29 00:00:00+00:00</td>\n",
       "      <td>56</td>\n",
       "      <td>0</td>\n",
       "      <td>1</td>\n",
       "      <td>1</td>\n",
       "      <td>0</td>\n",
       "      <td>0</td>\n",
       "      <td>0</td>\n",
       "      <td>0</td>\n",
       "      <td>Friday</td>\n",
       "      <td>old</td>\n",
       "    </tr>\n",
       "    <tr>\n",
       "      <th>...</th>\n",
       "      <td>...</td>\n",
       "      <td>...</td>\n",
       "      <td>...</td>\n",
       "      <td>...</td>\n",
       "      <td>...</td>\n",
       "      <td>...</td>\n",
       "      <td>...</td>\n",
       "      <td>...</td>\n",
       "      <td>...</td>\n",
       "      <td>...</td>\n",
       "      <td>...</td>\n",
       "      <td>...</td>\n",
       "      <td>...</td>\n",
       "    </tr>\n",
       "    <tr>\n",
       "      <th>95</th>\n",
       "      <td>M</td>\n",
       "      <td>2016-04-29 10:28:54+00:00</td>\n",
       "      <td>2016-04-29 00:00:00+00:00</td>\n",
       "      <td>1</td>\n",
       "      <td>0</td>\n",
       "      <td>0</td>\n",
       "      <td>0</td>\n",
       "      <td>0</td>\n",
       "      <td>0</td>\n",
       "      <td>0</td>\n",
       "      <td>0</td>\n",
       "      <td>Friday</td>\n",
       "      <td>kids</td>\n",
       "    </tr>\n",
       "    <tr>\n",
       "      <th>96</th>\n",
       "      <td>M</td>\n",
       "      <td>2016-04-26 14:28:39+00:00</td>\n",
       "      <td>2016-04-29 00:00:00+00:00</td>\n",
       "      <td>3</td>\n",
       "      <td>0</td>\n",
       "      <td>0</td>\n",
       "      <td>0</td>\n",
       "      <td>0</td>\n",
       "      <td>0</td>\n",
       "      <td>1</td>\n",
       "      <td>0</td>\n",
       "      <td>Friday</td>\n",
       "      <td>kids</td>\n",
       "    </tr>\n",
       "    <tr>\n",
       "      <th>97</th>\n",
       "      <td>F</td>\n",
       "      <td>2016-04-11 09:00:00+00:00</td>\n",
       "      <td>2016-04-29 00:00:00+00:00</td>\n",
       "      <td>35</td>\n",
       "      <td>0</td>\n",
       "      <td>0</td>\n",
       "      <td>0</td>\n",
       "      <td>0</td>\n",
       "      <td>0</td>\n",
       "      <td>1</td>\n",
       "      <td>0</td>\n",
       "      <td>Friday</td>\n",
       "      <td>adult</td>\n",
       "    </tr>\n",
       "    <tr>\n",
       "      <th>98</th>\n",
       "      <td>F</td>\n",
       "      <td>2016-04-12 09:44:42+00:00</td>\n",
       "      <td>2016-04-29 00:00:00+00:00</td>\n",
       "      <td>51</td>\n",
       "      <td>0</td>\n",
       "      <td>0</td>\n",
       "      <td>0</td>\n",
       "      <td>0</td>\n",
       "      <td>0</td>\n",
       "      <td>1</td>\n",
       "      <td>0</td>\n",
       "      <td>Friday</td>\n",
       "      <td>old</td>\n",
       "    </tr>\n",
       "    <tr>\n",
       "      <th>99</th>\n",
       "      <td>F</td>\n",
       "      <td>2016-04-29 14:38:28+00:00</td>\n",
       "      <td>2016-04-29 00:00:00+00:00</td>\n",
       "      <td>1</td>\n",
       "      <td>0</td>\n",
       "      <td>0</td>\n",
       "      <td>0</td>\n",
       "      <td>0</td>\n",
       "      <td>0</td>\n",
       "      <td>0</td>\n",
       "      <td>0</td>\n",
       "      <td>Friday</td>\n",
       "      <td>kids</td>\n",
       "    </tr>\n",
       "  </tbody>\n",
       "</table>\n",
       "<p>100 rows × 13 columns</p>\n",
       "</div>"
      ],
      "text/plain": [
       "   gender              scheduled_day            appointment_day  age  \\\n",
       "0       F  2016-04-29 18:38:08+00:00  2016-04-29 00:00:00+00:00   62   \n",
       "1       M  2016-04-29 16:08:27+00:00  2016-04-29 00:00:00+00:00   56   \n",
       "2       F  2016-04-29 16:19:04+00:00  2016-04-29 00:00:00+00:00   62   \n",
       "3       F  2016-04-29 17:29:31+00:00  2016-04-29 00:00:00+00:00    8   \n",
       "4       F  2016-04-29 16:07:23+00:00  2016-04-29 00:00:00+00:00   56   \n",
       "..    ...                        ...                        ...  ...   \n",
       "95      M  2016-04-29 10:28:54+00:00  2016-04-29 00:00:00+00:00    1   \n",
       "96      M  2016-04-26 14:28:39+00:00  2016-04-29 00:00:00+00:00    3   \n",
       "97      F  2016-04-11 09:00:00+00:00  2016-04-29 00:00:00+00:00   35   \n",
       "98      F  2016-04-12 09:44:42+00:00  2016-04-29 00:00:00+00:00   51   \n",
       "99      F  2016-04-29 14:38:28+00:00  2016-04-29 00:00:00+00:00    1   \n",
       "\n",
       "    scholarship  hipertension  diabetes  alcoholism  handcap  sms_received  \\\n",
       "0             0             1         0           0        0             0   \n",
       "1             0             0         0           0        0             0   \n",
       "2             0             0         0           0        0             0   \n",
       "3             0             0         0           0        0             0   \n",
       "4             0             1         1           0        0             0   \n",
       "..          ...           ...       ...         ...      ...           ...   \n",
       "95            0             0         0           0        0             0   \n",
       "96            0             0         0           0        0             1   \n",
       "97            0             0         0           0        0             1   \n",
       "98            0             0         0           0        0             1   \n",
       "99            0             0         0           0        0             0   \n",
       "\n",
       "    no_show day_of_appoint age_group  \n",
       "0         0         Friday     older  \n",
       "1         0         Friday       old  \n",
       "2         0         Friday     older  \n",
       "3         0         Friday      kids  \n",
       "4         0         Friday       old  \n",
       "..      ...            ...       ...  \n",
       "95        0         Friday      kids  \n",
       "96        0         Friday      kids  \n",
       "97        0         Friday     adult  \n",
       "98        0         Friday       old  \n",
       "99        0         Friday      kids  \n",
       "\n",
       "[100 rows x 13 columns]"
      ]
     },
     "execution_count": 61,
     "metadata": {},
     "output_type": "execute_result"
    }
   ],
   "source": [
    "df.head(100)"
   ]
  },
  {
   "cell_type": "code",
   "execution_count": 62,
   "metadata": {
    "scrolled": true
   },
   "outputs": [
    {
     "data": {
      "image/png": "[encoded data removed]",
      "text/plain": [
       "<Figure size 432x288 with 1 Axes>"
      ]
     },
     "metadata": {
      "needs_background": "light"
     },
     "output_type": "display_data"
    }
   ],
   "source": [
    "df.groupby('age_group').count().no_show.plot(kind = 'bar')\n",
    "plt.title('Number of patients by age_group go appointment\\n')\n",
    "plt.xlabel(' \\nage_group ')\n",
    "plt.ylabel('\\nTotal Number');"
   ]
  },
  {
   "cell_type": "code",
   "execution_count": 63,
   "metadata": {},
   "outputs": [
    {
     "data": {
      "image/png": "[encoded data removed]",
      "text/plain": [
       "<Figure size 432x288 with 1 Axes>"
      ]
     },
     "metadata": {
      "needs_background": "light"
     },
     "output_type": "display_data"
    }
   ],
   "source": [
    "df1 = df[miss_appoint]\n",
    "x = df1['no_show'].count()\n",
    "df1_day_miss = df1.groupby('age_group').no_show.count() *100/x\n",
    "df1_day_miss.plot(kind = 'bar')\n",
    "plt.title('Precentage of patients by age_group miss appointment\\n')\n",
    "plt.xlabel(' \\nage_group ')\n",
    "plt.ylabel('\\nPrecentage of total Number');"
   ]
  },
  {
   "cell_type": "code",
   "execution_count": 64,
   "metadata": {},
   "outputs": [
    {
     "data": {
      "image/png": "[encoded data removed]",
      "text/plain": [
       "<Figure size 432x288 with 1 Axes>"
      ]
     },
     "metadata": {
      "needs_background": "light"
     },
     "output_type": "display_data"
    }
   ],
   "source": [
    "df2 = df[go_appoint]\n",
    "x = df2['no_show'].count()\n",
    "df2_day_miss = df2.groupby('age_group').count().no_show *100/x\n",
    "df2_day_miss.plot(kind = 'bar')\n",
    "plt.title('Precentage of patients by age_group go appointment\\n')\n",
    "plt.xlabel(' \\nage_group ')\n",
    "plt.ylabel('\\nPrecentage of total Number');"
   ]
  },
  {
   "cell_type": "code",
   "execution_count": 65,
   "metadata": {},
   "outputs": [
    {
     "data": {
      "image/png": "[encoded data removed]",
      "text/plain": [
       "<Figure size 432x288 with 1 Axes>"
      ]
     },
     "metadata": {
      "needs_background": "light"
     },
     "output_type": "display_data"
    }
   ],
   "source": [
    "df.age_group[miss_appoint].hist(alpha=0.5 , bins = 20 , label='miss appointment', color = 'red'  )\n",
    "df.age_group[go_appoint].hist(alpha=0.5 , bins = 20 ,label='go appointment' , color = 'green')\n",
    "plt.legend()\n",
    "plt.title('Age group distribution (miss appointment , go appointment)')\n",
    "plt.xlabel(' \\nage_group ')\n",
    "plt.ylabel('\\n Number of pationt');"
   ]
  },
  {
   "cell_type": "markdown",
   "metadata": {},
   "source": [
    "based on this plotold Note that:- \\\n",
    "1- old (41-60 years old) have a higher miss attend appointments. \\\n",
    "2- teens (11-20) have a lower miss attend appointments. \\"
   ]
  },
  {
   "cell_type": "markdown",
   "metadata": {},
   "source": [
    "## Research Question 4:- \n",
    "### What is distribution of day name of patient show-up and no-show the appointment, they are correlation with end week?"
   ]
  },
  {
   "cell_type": "code",
   "execution_count": 66,
   "metadata": {},
   "outputs": [],
   "source": [
    "df1 = df[miss_appoint]\n",
    "x = df1['no_show'].count()\n",
    "df2 = df[go_appoint]\n",
    "y = df2['no_show'].count()\n",
    "df_day = df.groupby(['day_of_appoint','no_show']).no_show.count() *100/(x+y)"
   ]
  },
  {
   "cell_type": "code",
   "execution_count": 79,
   "metadata": {},
   "outputs": [
    {
     "data": {
      "image/png": "[encoded data removed]",
      "text/plain": [
       "<Figure size 432x288 with 1 Axes>"
      ]
     },
     "metadata": {
      "needs_background": "light"
     },
     "output_type": "display_data"
    }
   ],
   "source": [
    "df_day.plot(kind = 'bar')\n",
    "plt.xticks([0,1,2,3,4,5,6,7,8,9,10,11],['Friday-Go','Friday-Miss','Monday-Go','Monday-Miss',\n",
    "                                        'Saturday-Go','Saturday-Miss','Thursday-Go','Thursday-Miss',\n",
    "                                        'Tuesday-Go','Tuesday-Miss','Wednesday-Go','Wednesday-Miss'],\n",
    "           rotation = 90 , horizontalalignment=\"center\")\n",
    "plt.title('No of (miss appointment , go appointment) / Day of Week \\n')\n",
    "plt.xlabel(' \\nDay of Week(Miss-Go) ')\n",
    "plt.ylabel('\\n Number of pationt');"
   ]
  },
  {
   "cell_type": "markdown",
   "metadata": {},
   "source": [
    "Tuesday and Wednesday the most common day the patiant go them appointment"
   ]
  },
  {
   "cell_type": "code",
   "execution_count": 68,
   "metadata": {},
   "outputs": [
    {
     "name": "stdout",
     "output_type": "stream",
     "text": [
      "<class 'pandas.core.frame.DataFrame'>\n",
      "RangeIndex: 110526 entries, 0 to 110525\n",
      "Data columns (total 13 columns):\n",
      " #   Column           Non-Null Count   Dtype   \n",
      "---  ------           --------------   -----   \n",
      " 0   gender           110526 non-null  object  \n",
      " 1   scheduled_day    110526 non-null  object  \n",
      " 2   appointment_day  110526 non-null  object  \n",
      " 3   age              110526 non-null  int64   \n",
      " 4   scholarship      110526 non-null  int64   \n",
      " 5   hipertension     110526 non-null  int64   \n",
      " 6   diabetes         110526 non-null  int64   \n",
      " 7   alcoholism       110526 non-null  int64   \n",
      " 8   handcap          110526 non-null  int64   \n",
      " 9   sms_received     110526 non-null  int64   \n",
      " 10  no_show          110526 non-null  int64   \n",
      " 11  day_of_appoint   110526 non-null  object  \n",
      " 12  age_group        106987 non-null  category\n",
      "dtypes: category(1), int64(8), object(4)\n",
      "memory usage: 10.2+ MB\n"
     ]
    }
   ],
   "source": [
    "df.info()"
   ]
  },
  {
   "cell_type": "markdown",
   "metadata": {},
   "source": [
    "## Research Question 5:- \n",
    "### Compare between the patient who enrolled in Brazilian welfare program and show or didn’t show the appointment"
   ]
  },
  {
   "cell_type": "code",
   "execution_count": 69,
   "metadata": {},
   "outputs": [
    {
     "data": {
      "text/plain": [
       "scholarship  no_show\n",
       "0            0          79924\n",
       "             1          19741\n",
       "1            0           8283\n",
       "             1           2578\n",
       "Name: no_show, dtype: int64"
      ]
     },
     "execution_count": 69,
     "metadata": {},
     "output_type": "execute_result"
    }
   ],
   "source": [
    "df.groupby(['scholarship','no_show']).no_show.count()"
   ]
  },
  {
   "cell_type": "code",
   "execution_count": 70,
   "metadata": {},
   "outputs": [
    {
     "data": {
      "image/png": "[encoded data removed]",
      "text/plain": [
       "<Figure size 432x288 with 1 Axes>"
      ]
     },
     "metadata": {
      "needs_background": "light"
     },
     "output_type": "display_data"
    }
   ],
   "source": [
    "df.groupby(['scholarship','no_show']).no_show.count().plot(kind='bar');"
   ]
  },
  {
   "cell_type": "markdown",
   "metadata": {},
   "source": [
    "76% from The patiant have scholarship go them appointment oppsite 24% don't go. \\\n",
    "and 80% from The patiant don't have scholarship go them appointment oppsite 20% don't go."
   ]
  },
  {
   "cell_type": "markdown",
   "metadata": {},
   "source": [
    "## Research Question 6:- \n",
    "### How many patients attended and did not attended the appointment by received SMS? "
   ]
  },
  {
   "cell_type": "code",
   "execution_count": 71,
   "metadata": {},
   "outputs": [
    {
     "data": {
      "text/plain": [
       "sms_received  no_show\n",
       "0             0          62509\n",
       "              1          12535\n",
       "1             0          25698\n",
       "              1           9784\n",
       "Name: no_show, dtype: int64"
      ]
     },
     "execution_count": 71,
     "metadata": {},
     "output_type": "execute_result"
    }
   ],
   "source": [
    "df.groupby(['sms_received','no_show']).no_show.count()"
   ]
  },
  {
   "cell_type": "code",
   "execution_count": 72,
   "metadata": {},
   "outputs": [
    {
     "data": {
      "image/png": "[encoded data removed]",
      "text/plain": [
       "<Figure size 432x288 with 1 Axes>"
      ]
     },
     "metadata": {
      "needs_background": "light"
     },
     "output_type": "display_data"
    }
   ],
   "source": [
    "df.groupby(['sms_received','no_show']).no_show.count().plot(kind='bar');"
   ]
  },
  {
   "cell_type": "markdown",
   "metadata": {},
   "source": [
    "72% from The patiant received sms go them appointment oppsite 28% don't go. \\\n",
    "and 83% from The patiant don't received sms go them appointment oppsite 17% don't go."
   ]
  },
  {
   "cell_type": "markdown",
   "metadata": {},
   "source": [
    "<a id='conclusions'></a>\n",
    "## Conclusions\n",
    "\n",
    ">Finally we can say after do analyses the dataset and do descriptive statistics and visuals to answer questions\\\n",
    "\n",
    ">the most factors are important for us to know in order to predict if a patient will show up for their scheduled appointments are the patient gender, Female are the most likely to don't miss their appointments showing and male patients  more miss thire appointment, the Age from (40–60).\n",
    "\n",
    "> the patiant apper that the most common day go to them appointment is Tuesday and Wednesday.  \n",
    "\n",
    ">Surprisingly, the patients who did not receive SMS regarding their appointment have higher number of patients showing up (83%) for their appointment.\n",
    "\n",
    ">The distribution of Show-up Rate vs. SMS received does not make sense. People who do receive a reminder SMS usually tend to visit the hospital more than those who haven’t received an SMS. This discrepancy may cause by human error when collecting data. Or this could be an SMS that was received while booking an appointment and could possibly have no correlation with the visit probability.\n",
    "\n",
    "\n",
    "### Limitations\n",
    ">I wanted to try and figure out why this result was different from what I expected, but the dataset limited me because there was no mention of whether a patient had their own remind system. Or perhaps they did not have a phone that they could be reminded.\n",
    "\n",
    "> Create the mask and how can I deal with it and dataset is need more details about it."
   ]
  },
  {
   "cell_type": "code",
   "execution_count": 73,
   "metadata": {},
   "outputs": [
    {
     "data": {
      "text/plain": [
       "1"
      ]
     },
     "execution_count": 73,
     "metadata": {},
     "output_type": "execute_result"
    }
   ],
   "source": [
    "from subprocess import call\n",
    "call(['python', '-m', 'nbconvert', 'Investigate_a_Dataset.ipynb'])"
   ]
  }
 ],
 "metadata": {
  "kernelspec": {
   "display_name": "Python 3",
   "language": "python",
   "name": "python3"
  },
  "language_info": {
   "codemirror_mode": {
    "name": "ipython",
    "version": 3
   },
   "file_extension": ".py",
   "mimetype": "text/x-python",
   "name": "python",
   "nbconvert_exporter": "python",
   "pygments_lexer": "ipython3",
   "version": "3.8.8"
  }
 },
 "nbformat": 4,
 "nbformat_minor": 2
}
